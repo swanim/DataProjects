{
 "cells": [
  {
   "cell_type": "markdown",
   "id": "80ad2b2e",
   "metadata": {},
   "source": [
    "## CFR API 사용해보기"
   ]
  },
  {
   "cell_type": "markdown",
   "id": "bc661d49",
   "metadata": {},
   "source": [
    "### 얼굴감지 API"
   ]
  },
  {
   "cell_type": "code",
   "execution_count": 1,
   "id": "8ad2ce72",
   "metadata": {},
   "outputs": [
    {
     "name": "stdout",
     "output_type": "stream",
     "text": [
      "{\"info\":{\"size\":{\"width\":196,\"height\":258},\"faceCount\":1},\"faces\":[{\"roi\":{\"x\":64,\"y\":65,\"width\":81,\"height\":81},\"landmark\":{\"leftEye\":{\"x\":83,\"y\":85},\"rightEye\":{\"x\":126,\"y\":85},\"nose\":{\"x\":105,\"y\":114},\"leftMouth\":{\"x\":89,\"y\":134},\"rightMouth\":{\"x\":118,\"y\":134}},\"gender\":{\"value\":\"female\",\"confidence\":0.999904},\"age\":{\"value\":\"23~27\",\"confidence\":0.996442},\"emotion\":{\"value\":\"neutral\",\"confidence\":0.999894},\"pose\":{\"value\":\"frontal_face\",\"confidence\":0.9971}}]}\n"
     ]
    }
   ],
   "source": [
    "import os\n",
    "import sys\n",
    "import requests\n",
    "client_id = \"\"\n",
    "client_secret = \"\"\n",
    "url = \"https://openapi.naver.com/v1/vision/face\" # 얼굴감지\n",
    "#url = \"https://openapi.naver.com/v1/vision/celebrity\" # 유명인 얼굴인식\n",
    "files = {'image': open('iu.jpg', 'rb')}\n",
    "headers = {'X-Naver-Client-Id': client_id, 'X-Naver-Client-Secret': client_secret }\n",
    "response = requests.post(url,  files=files, headers=headers)\n",
    "rescode = response.status_code\n",
    "if(rescode==200):\n",
    "    print (response.text)\n",
    "else:\n",
    "    print(\"Error Code:\" + rescode)"
   ]
  },
  {
   "cell_type": "markdown",
   "id": "0349863a",
   "metadata": {},
   "source": [
    "### 얼굴감지 API 결과 해석\n",
    "\n",
    "- 사진 크기에 대한 정보와 인식된 얼굴 수를 출력하였다.\n",
    "- 얼굴의 x,y축, 너비와 높이에 대한 정보가 나와있다.\n",
    "- 왼쪽 눈, 오른쪽 눈, 코, 입의 x,y 축 정보가 나와있다.\n",
    "- 성별은 여성이고 정확도는 0.99에 이른다. \n",
    "- 나이는 23~27세라고 추정하였고, 정확도는 0.99이다.\n",
    "- 자연스러운 표정을 짓고있고 정확도는 0.99이다.\n",
    "- 자세는 정면을 바라보고 있는 얼굴이고 정확도는 0.99이다."
   ]
  },
  {
   "cell_type": "markdown",
   "id": "66ab9a23",
   "metadata": {},
   "source": [
    "### 유명인 얼굴인식 API"
   ]
  },
  {
   "cell_type": "code",
   "execution_count": 2,
   "id": "4d8592c5",
   "metadata": {},
   "outputs": [
    {
     "name": "stdout",
     "output_type": "stream",
     "text": [
      "{\"info\":{\"size\":{\"width\":196,\"height\":258},\"faceCount\":1},\"faces\":[{\"celebrity\":{\"value\":\"아이유\",\"confidence\":1.0}}]}\n"
     ]
    }
   ],
   "source": [
    "import os\n",
    "import sys\n",
    "import requests\n",
    "client_id = \"\"\n",
    "client_secret = \"\"\n",
    "#url = \"https://openapi.naver.com/v1/vision/face\" # 얼굴감지\n",
    "url = \"https://openapi.naver.com/v1/vision/celebrity\" # 유명인 얼굴인식\n",
    "files = {'image': open('iu.jpg', 'rb')}\n",
    "headers = {'X-Naver-Client-Id': client_id, 'X-Naver-Client-Secret': client_secret }\n",
    "response = requests.post(url,  files=files, headers=headers)\n",
    "rescode = response.status_code\n",
    "if(rescode==200):\n",
    "    print (response.text)\n",
    "else:\n",
    "    print(\"Error Code:\" + rescode)"
   ]
  },
  {
   "cell_type": "markdown",
   "id": "2e4ca429",
   "metadata": {},
   "source": [
    "### 유명인 얼굴인식 API 결과 해석\n",
    "\n",
    "- 사진 크기 판별. 가로, 세로의 크기\n",
    "- 인식된 얼굴 수를 카운트 해 출력해주었다. 인물 한 명이기 때문에 faceCount 1로 측정되었다.\n",
    "- 유명인이고, 아이유라고 사진에 대한 결과 해석을 정확히 해줬다.\n",
    "- 정확도는 1.0으로 나왔다"
   ]
  }
 ],
 "metadata": {
  "kernelspec": {
   "display_name": "Python 3 (ipykernel)",
   "language": "python",
   "name": "python3"
  },
  "language_info": {
   "codemirror_mode": {
    "name": "ipython",
    "version": 3
   },
   "file_extension": ".py",
   "mimetype": "text/x-python",
   "name": "python",
   "nbconvert_exporter": "python",
   "pygments_lexer": "ipython3",
   "version": "3.9.13"
  }
 },
 "nbformat": 4,
 "nbformat_minor": 5
}
