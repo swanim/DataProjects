{
 "cells": [
  {
   "cell_type": "markdown",
   "id": "853b501c",
   "metadata": {},
   "source": [
    "### JSON 결과"
   ]
  },
  {
   "cell_type": "code",
   "execution_count": 1,
   "id": "62c60542",
   "metadata": {},
   "outputs": [
    {
     "name": "stdout",
     "output_type": "stream",
     "text": [
      "{\n",
      "\t\"lastBuildDate\":\"Tue, 20 Dec 2022 18:47:56 +0900\",\n",
      "\t\"total\":92928,\n",
      "\t\"start\":1,\n",
      "\t\"display\":10,\n",
      "\t\"items\":[\n",
      "\t\t{\n",
      "\t\t\t\"title\":\"주택가에 숨어있는 <b>연신내 맛집<\\/b> 주다 - 혼술에 강추하는 이자카야\",\n",
      "\t\t\t\"link\":\"https:\\/\\/blog.naver.com\\/hajung0219\\/222959298401\",\n",
      "\t\t\t\"description\":\"사실 지금의 동네로 이사 와서 연신내역이 엄청 가까움에도 불구하고 둘이 데이트를 하거나 외식을 하려고 하면 거의 연희동 쪽이나 여의도까지 나가곤 했다. <b>연신내 맛집<\\/b>도 많이 있는 걸로 알고 있고 저장도... \",\n",
      "\t\t\t\"bloggername\":\"the best moment ever\",\n",
      "\t\t\t\"bloggerlink\":\"blog.naver.com\\/hajung0219\",\n",
      "\t\t\t\"postdate\":\"20221219\"\n",
      "\t\t},\n",
      "\t\t{\n",
      "\t\t\t\"title\":\"연신내역 맛집 : <b>연신내 맛집<\\/b> 핫플 로타리곱창타운 나도 다녀옴!\",\n",
      "\t\t\t\"link\":\"https:\\/\\/blog.naver.com\\/ad_yu2016\\/222941785498\",\n",
      "\t\t\t\"description\":\"오후 6시 이전 방문할 경우 무려 소주 한 병이 공짜인 이벤트를 하고 있는 연신내역 맛집 로타리곱창타운! 이러니까 벌써 <b>연신내 맛집<\\/b> 핫플이 된 거겠지유? 저희는 여기 웨이팅 짱이라는 말을 듣구 일부러 늦은... \",\n",
      "\t\t\t\"bloggername\":\"욜영의찬란한순간들\",\n",
      "\t\t\t\"bloggerlink\":\"blog.naver.com\\/ad_yu2016\",\n",
      "\t\t\t\"postdate\":\"20221129\"\n",
      "\t\t},\n",
      "\t\t{\n",
      "\t\t\t\"title\":\"은평구맛집 [장충당 역촌점] 동네 주민에게 사랑받는 <b>연신내맛집<\\/b>\",\n",
      "\t\t\t\"link\":\"https:\\/\\/blog.naver.com\\/kooltz1018\\/222946199848\",\n",
      "\t\t\t\"description\":\"그러던 중 은평구맛집 중 가격 대비 퀄리티가 진짜 좋다는 족발집을 알게 되어 근처 사는 후배랑 가보게... 것임에도 <b>연신내맛집<\\/b> 매장은 손님이 북적북적했다. 처음에는 바깥 자리에 손님이 있어서 웨이팅이... \",\n",
      "\t\t\t\"bloggername\":\"Ever thine, Ever mine, Ever ours.\",\n",
      "\t\t\t\"bloggerlink\":\"blog.naver.com\\/kooltz1018\",\n",
      "\t\t\t\"postdate\":\"20221205\"\n",
      "\t\t},\n",
      "\t\t{\n",
      "\t\t\t\"title\":\"<b>연신내<\\/b> 돼지갈비 <b>맛집<\\/b>, 명륜진사갈비 <b>연신내<\\/b>점 후기\",\n",
      "\t\t\t\"link\":\"https:\\/\\/blog.naver.com\\/noeniss\\/222935035775\",\n",
      "\t\t\t\"description\":\"<b>연신내 맛집<\\/b>으로 정말 명륜진사갈비 연신내점을 추천합니다. 돼지갈비 맛있는 곳을 찾고 계신 분들께는 꼭 추천합니다! 내부도 깔끔하고 직원분들도 친철하셔서 2시간 내내 편안한 식사 가능합니다. 맛집... \",\n",
      "\t\t\t\"bloggername\":\"오롯이 공유폴더\",\n",
      "\t\t\t\"bloggerlink\":\"blog.naver.com\\/noeniss\",\n",
      "\t\t\t\"postdate\":\"20221122\"\n",
      "\t\t},\n",
      "\t\t{\n",
      "\t\t\t\"title\":\"<b>연신내 맛집<\\/b> 소고기같은 돼지고기 이베리코 민족\",\n",
      "\t\t\t\"link\":\"https:\\/\\/blog.naver.com\\/chikicho_\\/222951135980\",\n",
      "\t\t\t\"description\":\"있는 <b>연신내 맛집<\\/b> 소고기같은 돼지고기 이베리코 민족 다녀온 후기 시작하겠습니다 :) ✔️ 상호... 불가능 <b>연신내 맛집<\\/b> 이베리코 민족은 골목길에 위치하고 있기 때문에 따로 주차할 공간이 없다. 구산역... \",\n",
      "\t\t\t\"bloggername\":\"한주의 한 주♪\",\n",
      "\t\t\t\"bloggerlink\":\"blog.naver.com\\/chikicho_\",\n",
      "\t\t\t\"postdate\":\"20221212\"\n",
      "\t\t},\n",
      "\t\t{\n",
      "\t\t\t\"title\":\"<b>연신내<\\/b>역<b>맛집<\\/b> 퀄리티 높은 로타리곱창타운\",\n",
      "\t\t\t\"link\":\"https:\\/\\/blog.naver.com\\/vanillasky_5\\/222911761351\",\n",
      "\t\t\t\"description\":\"솔직히 연신내역맛집 로타리곱창 퀄리티에 전골까지 나와서 놀랐는데요. ◈한우++육회한접시 곱창전골에 이어서 육회도 나오더라고요. <b>연신내맛집<\\/b>인 로타리곱창은 전통있는 육가공 업체와 협업하여 질이 좋은... \",\n",
      "\t\t\t\"bloggername\":\"숑숑의 힐링타임\",\n",
      "\t\t\t\"bloggerlink\":\"blog.naver.com\\/vanillasky_5\",\n",
      "\t\t\t\"postdate\":\"20221027\"\n",
      "\t\t},\n",
      "\t\t{\n",
      "\t\t\t\"title\":\"<b>연신내 맛집<\\/b> 이베리코민족\",\n",
      "\t\t\t\"link\":\"https:\\/\\/blog.naver.com\\/getout11\\/222903415775\",\n",
      "\t\t\t\"description\":\"<b>연신내 맛집<\\/b> 연신내에서 가까운 곳의 프라이빗하고도 감각적인 골목안에 위치한 이베리코민족 은평점에 가보았습니다~ 루룰루 이베리코라니♡♡♡♡ 주차는 불가합니다 골목들어가기 전 이베리코민족 간판이... \",\n",
      "\t\t\t\"bloggername\":\"한떨기의사이다\",\n",
      "\t\t\t\"bloggerlink\":\"blog.naver.com\\/getout11\",\n",
      "\t\t\t\"postdate\":\"20221018\"\n",
      "\t\t},\n",
      "\t\t{\n",
      "\t\t\t\"title\":\"<b>연신내맛집<\\/b> 쿠우쿠우에서 후식까지 알차게 점심식사했어요\",\n",
      "\t\t\t\"link\":\"https:\\/\\/blog.naver.com\\/loving8792\\/222879397720\",\n",
      "\t\t\t\"description\":\"#은평구뷔페 #<b>연신내맛집<\\/b> #쿠우쿠우 #갈현동맛집 #점심메뉴 #단체모임 #단체식사 여러가지 맛 볼 수 있는 <b>연신내맛집<\\/b> 쿠우쿠우에서 여유로운 점심식사 하고 왔어요. 연신내 뷔페 맛집인 쿠우쿠우는 메트로타워... \",\n",
      "\t\t\t\"bloggername\":\"\\\"Happy Day\\\"\",\n",
      "\t\t\t\"bloggerlink\":\"blog.naver.com\\/loving8792\",\n",
      "\t\t\t\"postdate\":\"20220920\"\n",
      "\t\t},\n",
      "\t\t{\n",
      "\t\t\t\"title\":\"<b>연신내 맛집<\\/b> 24시 다슬기해장국 삼계탕 먹어본 후기\",\n",
      "\t\t\t\"link\":\"https:\\/\\/blog.naver.com\\/midas7794\\/222927961876\",\n",
      "\t\t\t\"description\":\"왠지 해장하기에 굉장히 좋은 메뉴들도 많고 일단은 연시내 맛집 타이틀을 가진 곳이긴 하지만... &lt;<b>연신내 맛집<\\/b> 24시 다슬기해장국&gt; 서울시 은평구 연서로29길 8-11 (연신내역 7번 출구에서 182m) 연중무휴 24시간... \",\n",
      "\t\t\t\"bloggername\":\"머그컵제작 인쇄 전문 휴먼비샵\",\n",
      "\t\t\t\"bloggerlink\":\"blog.naver.com\\/midas7794\",\n",
      "\t\t\t\"postdate\":\"20221114\"\n",
      "\t\t},\n",
      "\t\t{\n",
      "\t\t\t\"title\":\"[은평구돈까스 맛집] <b>연신내맛집<\\/b> 다온카츠\",\n",
      "\t\t\t\"link\":\"https:\\/\\/blog.naver.com\\/heeheenaknak424\\/222958367841\",\n",
      "\t\t\t\"description\":\"3일 연속 <b>연신내 맛집<\\/b> 포스팅 중입니다. 오늘도 저녁을 먹으러 연신내 왔습니다. 오늘의 메뉴는 돈까스 지금 소개할 돈까스 맛집은 다른 집에는 없는 특별한 메뉴도 있습니다. 엠씨고가 선택한 은평구 돈까스... \",\n",
      "\t\t\t\"bloggername\":\"희희낙낙랜드\",\n",
      "\t\t\t\"bloggerlink\":\"blog.naver.com\\/heeheenaknak424\",\n",
      "\t\t\t\"postdate\":\"20221217\"\n",
      "\t\t}\n",
      "\t]\n",
      "}\n"
     ]
    }
   ],
   "source": [
    "# 네이버 검색 API 예제 - 블로그 검색\n",
    "import os\n",
    "import sys\n",
    "import urllib.request\n",
    "client_id = \"\"\n",
    "client_secret = \"\"\n",
    "encText = urllib.parse.quote(\"연신내 맛집\")\n",
    "url = \"https://openapi.naver.com/v1/search/blog?query=\" + encText # JSON 결과\n",
    "# url = \"https://openapi.naver.com/v1/search/blog.xml?query=\" + encText # XML 결과\n",
    "request = urllib.request.Request(url)\n",
    "request.add_header(\"X-Naver-Client-Id\",client_id)\n",
    "request.add_header(\"X-Naver-Client-Secret\",client_secret)\n",
    "response = urllib.request.urlopen(request)\n",
    "rescode = response.getcode()\n",
    "if(rescode==200):\n",
    "    response_body = response.read()\n",
    "    print(response_body.decode('utf-8'))\n",
    "else:\n",
    "    print(\"Error Code:\" + rescode)"
   ]
  },
  {
   "cell_type": "markdown",
   "id": "50526d09",
   "metadata": {},
   "source": [
    "### XML 결과"
   ]
  },
  {
   "cell_type": "code",
   "execution_count": 2,
   "id": "fdc464df",
   "metadata": {
    "scrolled": true
   },
   "outputs": [
    {
     "name": "stdout",
     "output_type": "stream",
     "text": [
      "<?xml version=\"1.0\" encoding=\"UTF-8\"?><rss version=\"2.0\"><channel><title>Naver Open API - blog ::&apos;연신내 맛집&apos;</title><link>https://search.naver.com</link><description>Naver Search Result</description><lastBuildDate>Tue, 20 Dec 2022 18:47:59 +0900</lastBuildDate><total>92928</total><start>1</start><display>10</display><item><title>주택가에 숨어있는 &lt;b&gt;연신내 맛집&lt;/b&gt; 주다 - 혼술에 강추하는 이자카야</title><link>https://blog.naver.com/hajung0219/222959298401</link><description>사실 지금의 동네로 이사 와서 연신내역이 엄청 가까움에도 불구하고 둘이 데이트를 하거나 외식을 하려고 하면 거의 연희동 쪽이나 여의도까지 나가곤 했다. &lt;b&gt;연신내 맛집&lt;/b&gt;도 많이 있는 걸로 알고 있고 저장도... </description><bloggername>the best moment ever</bloggername><bloggerlink>blog.naver.com/hajung0219</bloggerlink><postdate>20221219</postdate></item><item><title>연신내역 맛집 : &lt;b&gt;연신내 맛집&lt;/b&gt; 핫플 로타리곱창타운 나도 다녀옴!</title><link>https://blog.naver.com/ad_yu2016/222941785498</link><description>오후 6시 이전 방문할 경우 무려 소주 한 병이 공짜인 이벤트를 하고 있는 연신내역 맛집 로타리곱창타운! 이러니까 벌써 &lt;b&gt;연신내 맛집&lt;/b&gt; 핫플이 된 거겠지유? 저희는 여기 웨이팅 짱이라는 말을 듣구 일부러 늦은... </description><bloggername>욜영의찬란한순간들</bloggername><bloggerlink>blog.naver.com/ad_yu2016</bloggerlink><postdate>20221129</postdate></item><item><title>은평구맛집 [장충당 역촌점] 동네 주민에게 사랑받는 &lt;b&gt;연신내맛집&lt;/b&gt;</title><link>https://blog.naver.com/kooltz1018/222946199848</link><description>그러던 중 은평구맛집 중 가격 대비 퀄리티가 진짜 좋다는 족발집을 알게 되어 근처 사는 후배랑 가보게... 것임에도 &lt;b&gt;연신내맛집&lt;/b&gt; 매장은 손님이 북적북적했다. 처음에는 바깥 자리에 손님이 있어서 웨이팅이... </description><bloggername>Ever thine, Ever mine, Ever ours.</bloggername><bloggerlink>blog.naver.com/kooltz1018</bloggerlink><postdate>20221205</postdate></item><item><title>&lt;b&gt;연신내&lt;/b&gt; 돼지갈비 &lt;b&gt;맛집&lt;/b&gt;, 명륜진사갈비 &lt;b&gt;연신내&lt;/b&gt;점 후기</title><link>https://blog.naver.com/noeniss/222935035775</link><description>&lt;b&gt;연신내 맛집&lt;/b&gt;으로 정말 명륜진사갈비 연신내점을 추천합니다. 돼지갈비 맛있는 곳을 찾고 계신 분들께는 꼭 추천합니다! 내부도 깔끔하고 직원분들도 친철하셔서 2시간 내내 편안한 식사 가능합니다. 맛집... </description><bloggername>오롯이 공유폴더</bloggername><bloggerlink>blog.naver.com/noeniss</bloggerlink><postdate>20221122</postdate></item><item><title>&lt;b&gt;연신내 맛집&lt;/b&gt; 소고기같은 돼지고기 이베리코 민족</title><link>https://blog.naver.com/chikicho_/222951135980</link><description>있는 &lt;b&gt;연신내 맛집&lt;/b&gt; 소고기같은 돼지고기 이베리코 민족 다녀온 후기 시작하겠습니다 :) ✔️ 상호... 불가능 &lt;b&gt;연신내 맛집&lt;/b&gt; 이베리코 민족은 골목길에 위치하고 있기 때문에 따로 주차할 공간이 없다. 구산역... </description><bloggername>한주의 한 주♪</bloggername><bloggerlink>blog.naver.com/chikicho_</bloggerlink><postdate>20221212</postdate></item><item><title>&lt;b&gt;연신내&lt;/b&gt;역&lt;b&gt;맛집&lt;/b&gt; 퀄리티 높은 로타리곱창타운</title><link>https://blog.naver.com/vanillasky_5/222911761351</link><description>솔직히 연신내역맛집 로타리곱창 퀄리티에 전골까지 나와서 놀랐는데요. ◈한우++육회한접시 곱창전골에 이어서 육회도 나오더라고요. &lt;b&gt;연신내맛집&lt;/b&gt;인 로타리곱창은 전통있는 육가공 업체와 협업하여 질이 좋은... </description><bloggername>숑숑의 힐링타임</bloggername><bloggerlink>blog.naver.com/vanillasky_5</bloggerlink><postdate>20221027</postdate></item><item><title>&lt;b&gt;연신내 맛집&lt;/b&gt; 이베리코민족</title><link>https://blog.naver.com/getout11/222903415775</link><description>&lt;b&gt;연신내 맛집&lt;/b&gt; 연신내에서 가까운 곳의 프라이빗하고도 감각적인 골목안에 위치한 이베리코민족 은평점에 가보았습니다~ 루룰루 이베리코라니♡♡♡♡ 주차는 불가합니다 골목들어가기 전 이베리코민족 간판이... </description><bloggername>한떨기의사이다</bloggername><bloggerlink>blog.naver.com/getout11</bloggerlink><postdate>20221018</postdate></item><item><title>&lt;b&gt;연신내맛집&lt;/b&gt; 쿠우쿠우에서 후식까지 알차게 점심식사했어요</title><link>https://blog.naver.com/loving8792/222879397720</link><description>#은평구뷔페 #&lt;b&gt;연신내맛집&lt;/b&gt; #쿠우쿠우 #갈현동맛집 #점심메뉴 #단체모임 #단체식사 여러가지 맛 볼 수 있는 &lt;b&gt;연신내맛집&lt;/b&gt; 쿠우쿠우에서 여유로운 점심식사 하고 왔어요. 연신내 뷔페 맛집인 쿠우쿠우는 메트로타워... </description><bloggername>&quot;Happy Day&quot;</bloggername><bloggerlink>blog.naver.com/loving8792</bloggerlink><postdate>20220920</postdate></item><item><title>&lt;b&gt;연신내 맛집&lt;/b&gt; 24시 다슬기해장국 삼계탕 먹어본 후기</title><link>https://blog.naver.com/midas7794/222927961876</link><description>왠지 해장하기에 굉장히 좋은 메뉴들도 많고 일단은 연시내 맛집 타이틀을 가진 곳이긴 하지만... &amp;lt;&lt;b&gt;연신내 맛집&lt;/b&gt; 24시 다슬기해장국&amp;gt; 서울시 은평구 연서로29길 8-11 (연신내역 7번 출구에서 182m) 연중무휴 24시간... </description><bloggername>머그컵제작 인쇄 전문 휴먼비샵</bloggername><bloggerlink>blog.naver.com/midas7794</bloggerlink><postdate>20221114</postdate></item><item><title>[은평구돈까스 맛집] &lt;b&gt;연신내맛집&lt;/b&gt; 다온카츠</title><link>https://blog.naver.com/heeheenaknak424/222958367841</link><description>3일 연속 &lt;b&gt;연신내 맛집&lt;/b&gt; 포스팅 중입니다. 오늘도 저녁을 먹으러 연신내 왔습니다. 오늘의 메뉴는 돈까스 지금 소개할 돈까스 맛집은 다른 집에는 없는 특별한 메뉴도 있습니다. 엠씨고가 선택한 은평구 돈까스... </description><bloggername>희희낙낙랜드</bloggername><bloggerlink>blog.naver.com/heeheenaknak424</bloggerlink><postdate>20221217</postdate></item></channel></rss>\n"
     ]
    }
   ],
   "source": [
    "# 네이버 검색 API 예제 - 블로그 검색\n",
    "import os\n",
    "import sys\n",
    "import urllib.request\n",
    "client_id = \"\"\n",
    "client_secret = \"\"\n",
    "encText = urllib.parse.quote(\"연신내 맛집\")\n",
    "# url = \"https://openapi.naver.com/v1/search/blog?query=\" + encText # JSON 결과\n",
    "url = \"https://openapi.naver.com/v1/search/blog.xml?query=\" + encText # XML 결과\n",
    "request = urllib.request.Request(url)\n",
    "request.add_header(\"X-Naver-Client-Id\",client_id)\n",
    "request.add_header(\"X-Naver-Client-Secret\",client_secret)\n",
    "response = urllib.request.urlopen(request)\n",
    "rescode = response.getcode()\n",
    "if(rescode==200):\n",
    "    response_body = response.read()\n",
    "    print(response_body.decode('utf-8'))\n",
    "else:\n",
    "    print(\"Error Code:\" + rescode)"
   ]
  }
 ],
 "metadata": {
  "kernelspec": {
   "display_name": "Python 3 (ipykernel)",
   "language": "python",
   "name": "python3"
  },
  "language_info": {
   "codemirror_mode": {
    "name": "ipython",
    "version": 3
   },
   "file_extension": ".py",
   "mimetype": "text/x-python",
   "name": "python",
   "nbconvert_exporter": "python",
   "pygments_lexer": "ipython3",
   "version": "3.9.13"
  }
 },
 "nbformat": 4,
 "nbformat_minor": 5
}
