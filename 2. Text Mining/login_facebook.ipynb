{
 "cells": [
  {
   "cell_type": "markdown",
   "id": "c7692bfd",
   "metadata": {},
   "source": [
    "## selenium을 이용하여 페이스북 로그인하기"
   ]
  },
  {
   "cell_type": "code",
   "execution_count": 1,
   "id": "88b66b36",
   "metadata": {},
   "outputs": [],
   "source": [
    "from selenium import webdriver"
   ]
  },
  {
   "cell_type": "code",
   "execution_count": 2,
   "id": "0cd51107",
   "metadata": {},
   "outputs": [
    {
     "name": "stderr",
     "output_type": "stream",
     "text": [
      "C:\\Users\\SH501\\AppData\\Local\\Temp\\ipykernel_11124\\3254503993.py:1: DeprecationWarning: executable_path has been deprecated, please pass in a Service object\n",
      "  driver = webdriver.Chrome(r\"C:\\Users\\SH501\\Downloads\\chromedriver_win32\\chromedriver.exe\")\n"
     ]
    }
   ],
   "source": [
    "driver = webdriver.Chrome(r\"C:\\Users\\SH501\\Downloads\\chromedriver_win32\\chromedriver.exe\")"
   ]
  },
  {
   "cell_type": "code",
   "execution_count": 18,
   "id": "eca089d7",
   "metadata": {},
   "outputs": [],
   "source": [
    "driver.get(\"https://m.facebook.com/login/?locale=ko_KR\")"
   ]
  },
  {
   "cell_type": "code",
   "execution_count": 19,
   "id": "44d9cabd",
   "metadata": {},
   "outputs": [],
   "source": [
    "login_id = driver.find_element(\"id\",\"m_login_email\")\n",
    "login_id.clear()\n",
    "login_id.send_keys(\"hello_facebook\")"
   ]
  },
  {
   "cell_type": "code",
   "execution_count": 20,
   "id": "cfdc7928",
   "metadata": {},
   "outputs": [],
   "source": [
    "login_pw = driver.find_element(\"id\", \"m_login_password\")\n",
    "login_pw.clear()\n",
    "login_pw.send_keys(\"password_hello\")"
   ]
  },
  {
   "cell_type": "code",
   "execution_count": 21,
   "id": "57ca885e",
   "metadata": {},
   "outputs": [],
   "source": [
    "login_button = '//*[@id=\"login_password_step_element\"]/button'\n",
    "driver.find_element(\"name\", \"login\").click()"
   ]
  }
 ],
 "metadata": {
  "kernelspec": {
   "display_name": "Python 3 (ipykernel)",
   "language": "python",
   "name": "python3"
  },
  "language_info": {
   "codemirror_mode": {
    "name": "ipython",
    "version": 3
   },
   "file_extension": ".py",
   "mimetype": "text/x-python",
   "name": "python",
   "nbconvert_exporter": "python",
   "pygments_lexer": "ipython3",
   "version": "3.10.4"
  }
 },
 "nbformat": 4,
 "nbformat_minor": 5
}
