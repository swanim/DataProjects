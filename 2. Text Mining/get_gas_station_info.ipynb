{
 "cells": [
  {
   "cell_type": "markdown",
   "id": "ef1ee4ff",
   "metadata": {},
   "source": [
    "## 인천광역시 주유소 정보 가져오기"
   ]
  },
  {
   "cell_type": "code",
   "execution_count": 21,
   "id": "52d04210",
   "metadata": {},
   "outputs": [],
   "source": [
    "from selenium import webdriver"
   ]
  },
  {
   "cell_type": "code",
   "execution_count": 22,
   "id": "d52de52f",
   "metadata": {},
   "outputs": [
    {
     "name": "stderr",
     "output_type": "stream",
     "text": [
      "C:\\Users\\SH501\\AppData\\Local\\Temp\\ipykernel_7664\\3254503993.py:1: DeprecationWarning: executable_path has been deprecated, please pass in a Service object\n",
      "  driver = webdriver.Chrome(r\"C:\\Users\\SH501\\Downloads\\chromedriver_win32\\chromedriver.exe\")\n"
     ]
    }
   ],
   "source": [
    "driver = webdriver.Chrome(r\"C:\\Users\\SH501\\Downloads\\chromedriver_win32\\chromedriver.exe\")"
   ]
  },
  {
   "cell_type": "code",
   "execution_count": 23,
   "id": "25d9abd3",
   "metadata": {},
   "outputs": [],
   "source": [
    "driver.get(\"https://www.opinet.co.kr/user/main/mainView.do\")"
   ]
  },
  {
   "cell_type": "code",
   "execution_count": 24,
   "id": "a4299467",
   "metadata": {},
   "outputs": [],
   "source": [
    "driver.get(\"https://www.opinet.co.kr/searRgSelect.do\")"
   ]
  },
  {
   "cell_type": "code",
   "execution_count": 25,
   "id": "6bc50a87",
   "metadata": {},
   "outputs": [],
   "source": [
    "sido_xpath = '//*[@id=\"SIDO_NM0\"]'\n",
    "driver.find_element(\"xpath\", sido_xpath).send_keys('인천')"
   ]
  },
  {
   "cell_type": "code",
   "execution_count": 26,
   "id": "03fddc5a",
   "metadata": {},
   "outputs": [],
   "source": [
    "gu_xpath = '//*[@id=\"SIGUNGU_NM0\"]'\n",
    "driver.find_element(\"xpath\", gu_xpath).send_keys('연수구')"
   ]
  },
  {
   "cell_type": "code",
   "execution_count": 27,
   "id": "800e924b",
   "metadata": {},
   "outputs": [
    {
     "data": {
      "text/plain": [
       "'D:\\\\10week'"
      ]
     },
     "execution_count": 27,
     "metadata": {},
     "output_type": "execute_result"
    }
   ],
   "source": [
    "pwd"
   ]
  },
  {
   "cell_type": "code",
   "execution_count": 28,
   "id": "ccce4b26",
   "metadata": {},
   "outputs": [
    {
     "name": "stderr",
     "output_type": "stream",
     "text": [
      "C:\\Users\\SH501\\AppData\\Local\\Temp\\ipykernel_7664\\70227922.py:6: DeprecationWarning: executable_path has been deprecated, please pass in a Service object\n",
      "  driver = webdriver.Chrome(r\"C:\\Users\\SH501\\Downloads\\chromedriver_win32\\chromedriver.exe\", options=opts)\n"
     ]
    }
   ],
   "source": [
    "# 설정 -> 다운로드 들어가면 변경된 거 확인가능\n",
    "opts = webdriver.ChromeOptions()\n",
    "opts.add_experimental_option('prefs',{\n",
    "    'download.default_directory' : r\"D:\\\\10week\"\n",
    "})\n",
    "driver = webdriver.Chrome(r\"C:\\Users\\SH501\\Downloads\\chromedriver_win32\\chromedriver.exe\", options=opts)"
   ]
  },
  {
   "cell_type": "code",
   "execution_count": 39,
   "id": "e740d229",
   "metadata": {},
   "outputs": [],
   "source": [
    "driver.get(\"https://www.opinet.co.kr/searRgSelect.do\")\n",
    "driver.find_element(\"xpath\", sido_xpath).send_keys('인천')"
   ]
  },
  {
   "cell_type": "code",
   "execution_count": 42,
   "id": "71c376bd",
   "metadata": {},
   "outputs": [],
   "source": [
    "gu_xpath = '//*[@id=\"SIGUNGU_NM0\"]'\n",
    "gu_list_raw = driver.find_element(\"xpath\", gu_xpath)\n",
    "gu_list = gu_list_raw.find_elements(\"tag name\",\"option\")"
   ]
  },
  {
   "cell_type": "code",
   "execution_count": 43,
   "id": "76e86ff8",
   "metadata": {},
   "outputs": [
    {
     "name": "stdout",
     "output_type": "stream",
     "text": [
      "시/군/구\n",
      "강화군\n",
      "계양구\n",
      "남동구\n",
      "동구\n",
      "미추홀구\n",
      "부평구\n",
      "서구\n",
      "연수구\n",
      "옹진군\n",
      "중구\n"
     ]
    }
   ],
   "source": [
    "for g in gu_list:\n",
    "    print(g.text)"
   ]
  },
  {
   "cell_type": "code",
   "execution_count": 44,
   "id": "44c6ba80",
   "metadata": {},
   "outputs": [
    {
     "name": "stdout",
     "output_type": "stream",
     "text": [
      "['강화군', '계양구', '남동구', '동구', '미추홀구', '부평구', '서구', '연수구', '옹진군', '중구']\n"
     ]
    }
   ],
   "source": [
    "gu_names = []\n",
    "for i in range(len(gu_list)):\n",
    "    if i > 0:\n",
    "        gu_names.append(gu_list[i].text)\n",
    "print(gu_names)"
   ]
  },
  {
   "cell_type": "code",
   "execution_count": 50,
   "id": "1acac264",
   "metadata": {},
   "outputs": [
    {
     "name": "stdout",
     "output_type": "stream",
     "text": [
      "강화군\n",
      "계양구\n",
      "남동구\n",
      "동구\n",
      "미추홀구\n",
      "부평구\n",
      "서구\n",
      "연수구\n",
      "옹진군\n",
      "중구\n"
     ]
    }
   ],
   "source": [
    "import time\n",
    "for i in range(len(gu_names)):\n",
    "    print(gu_names[i])\n",
    "    \n",
    "    gu_xpath = '//*[@id=\"SIGUNGU_NM0\"]'\n",
    "    driver.find_element(\"xpath\", gu_xpath).send_keys(gu_names[i])\n",
    "    \n",
    "    time.sleep(3)\n",
    "    \n",
    "    search_button = '//*[@id=\"searRgSelect\"]'\n",
    "    driver.find_element(\"xpath\", search_button).click()\n",
    "    \n",
    "    time.sleep(3)\n",
    "    \n",
    "    save_excel_button = '//*[@id=\"glopopd_excel\"]'\n",
    "    driver.find_element(\"xpath\", save_excel_button).click()\n",
    "    \n",
    "    time.sleep(3)"
   ]
  },
  {
   "cell_type": "code",
   "execution_count": null,
   "id": "aff39e65",
   "metadata": {},
   "outputs": [],
   "source": [
    "\n",
    "    \n",
    "    "
   ]
  }
 ],
 "metadata": {
  "kernelspec": {
   "display_name": "Python 3 (ipykernel)",
   "language": "python",
   "name": "python3"
  },
  "language_info": {
   "codemirror_mode": {
    "name": "ipython",
    "version": 3
   },
   "file_extension": ".py",
   "mimetype": "text/x-python",
   "name": "python",
   "nbconvert_exporter": "python",
   "pygments_lexer": "ipython3",
   "version": "3.10.4"
  }
 },
 "nbformat": 4,
 "nbformat_minor": 5
}
