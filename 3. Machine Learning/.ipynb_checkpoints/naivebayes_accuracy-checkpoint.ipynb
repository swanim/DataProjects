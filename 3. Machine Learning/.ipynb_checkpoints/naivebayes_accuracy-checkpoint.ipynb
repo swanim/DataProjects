{
 "cells": [
  {
   "cell_type": "markdown",
   "id": "3d0d65a8",
   "metadata": {},
   "source": [
    "# 분류기의 정확도 확인"
   ]
  },
  {
   "cell_type": "code",
   "execution_count": 1,
   "id": "90e5c529",
   "metadata": {},
   "outputs": [
    {
     "data": {
      "text/plain": [
       "('ratings_test.txt', <http.client.HTTPMessage at 0x2b4c9d69390>)"
      ]
     },
     "execution_count": 1,
     "metadata": {},
     "output_type": "execute_result"
    }
   ],
   "source": [
    "import urllib\n",
    "urllib.request.urlretrieve('https://raw.githubusercontent.com/e9t/nsmc/master/ratings_train.txt', filename='ratings_train.txt')\n",
    "urllib.request.urlretrieve(\"https://raw.githubusercontent.com/e9t/nsmc/master/ratings_test.txt\", filename=\"ratings_test.txt\")\n"
   ]
  },
  {
   "cell_type": "code",
   "execution_count": 2,
   "id": "bb0eeef9",
   "metadata": {},
   "outputs": [],
   "source": [
    "from nltk.tokenize import word_tokenize\n",
    "import nltk\n",
    "from konlpy.tag import Okt\n",
    "okt = Okt()"
   ]
  },
  {
   "cell_type": "code",
   "execution_count": 52,
   "id": "18a0b184",
   "metadata": {},
   "outputs": [],
   "source": [
    "def load_data(filename):\n",
    "    train = []\n",
    "    count = 0\n",
    "    with open(filename, 'r', encoding='utf-8') as f:      \n",
    "        for line in f.readlines():\n",
    "            if count == 1000: break\n",
    "            \n",
    "            line = line.strip()\n",
    "            id, document, label = line.split('\\t')\n",
    "            if label == '1': label = 'pos'\n",
    "            else: label = 'neg'    \n",
    "            train_tup = (document, label)\n",
    "            train.append(train_tup)\n",
    "            count += 1\n",
    "    return train\n",
    "\n",
    "def pos_tokenize(raw_sent):\n",
    "    pos_sent = []\n",
    "    \n",
    "    sent = okt.pos(raw_sent, norm=True, stem=True)\n",
    "    for tup in sent:\n",
    "        word, tag = tup\n",
    "        word_tag = word + '/' + tag\n",
    "        pos_sent.append(word_tag)\n",
    "       \n",
    "    return ' '.join(pos_sent)\n",
    "\n"
   ]
  },
  {
   "cell_type": "code",
   "execution_count": 53,
   "id": "52a91faa",
   "metadata": {},
   "outputs": [],
   "source": [
    "def make_word_dict(train, use_morph = False):\n",
    "    all_words = set()\n",
    "    for tup in train:\n",
    "        sent, label = tup\n",
    "        if use_morph: sent = pos_tokenize(sent)\n",
    "        word_list = word_tokenize(sent)\n",
    "        for word in word_list:\n",
    "            all_words.add(word)\n",
    "    return all_words"
   ]
  },
  {
   "cell_type": "code",
   "execution_count": 54,
   "id": "056bef33",
   "metadata": {},
   "outputs": [],
   "source": [
    "def make_train_feats(train, all_words, use_morph = False):\n",
    "    train_features = []\n",
    "    for tup in train:\n",
    "        sent, label = tup # sent:'I like you' label: 'pos'\n",
    "        if use_morph: sent = pos_tokenize(sent)\n",
    "        word_list = word_tokenize(sent) # ['I', like, you]\n",
    "        tmp = {set_word: set_word in word_list for set_word in all_words}\n",
    "        train_feature = (tmp, label)\n",
    "        train_features.append(train_feature)\n",
    "        \n",
    "    return train_features"
   ]
  },
  {
   "cell_type": "code",
   "execution_count": 55,
   "id": "a85920cf",
   "metadata": {},
   "outputs": [],
   "source": [
    "train = load_data('ratings_train.txt')[1:]\n",
    "#use_morph= True\n",
    "all_words = make_word_dict(train,use_morph=True)\n",
    "train_features = make_train_feats(train,all_words,use_morph=True)"
   ]
  },
  {
   "cell_type": "code",
   "execution_count": 56,
   "id": "f2250613",
   "metadata": {},
   "outputs": [
    {
     "name": "stdout",
     "output_type": "stream",
     "text": [
      "Most Informative Features\n",
      "                쓰레기/Noun = True              neg : pos    =     11.9 : 1.0\n",
      "                 인생/Noun = True              pos : neg    =     10.0 : 1.0\n",
      "                 최고/Noun = True              pos : neg    =      9.5 : 1.0\n",
      "           괜찮다/Adjective = True              pos : neg    =      8.6 : 1.0\n",
      "                       ; = True              neg : pos    =      8.3 : 1.0\n",
      "          재미없다/Adjective = True              neg : pos    =      8.1 : 1.0\n",
      "       ㅡㅡ/KoreanParticle = True              neg : pos    =      8.1 : 1.0\n",
      "           아깝다/Adjective = True              neg : pos    =      7.6 : 1.0\n",
      "          지루하다/Adjective = True              neg : pos    =      7.5 : 1.0\n",
      "           재밌다/Adjective = True              pos : neg    =      7.5 : 1.0\n"
     ]
    }
   ],
   "source": [
    "classifier = nltk.NaiveBayesClassifier.train(train_features)\n",
    "classifier.show_most_informative_features(n=10)"
   ]
  },
  {
   "cell_type": "code",
   "execution_count": 57,
   "id": "7e48babf",
   "metadata": {},
   "outputs": [
    {
     "data": {
      "text/plain": [
       "'pos'"
      ]
     },
     "execution_count": 57,
     "metadata": {},
     "output_type": "execute_result"
    }
   ],
   "source": [
    "classifier.classify(test_features[0][0])"
   ]
  },
  {
   "cell_type": "markdown",
   "id": "c63708e6",
   "metadata": {},
   "source": [
    "# 정확도 계산하기"
   ]
  },
  {
   "cell_type": "markdown",
   "id": "15a3378f",
   "metadata": {},
   "source": [
    "##  use_morph = False (count == 500)"
   ]
  },
  {
   "cell_type": "code",
   "execution_count": 25,
   "id": "596535d1",
   "metadata": {},
   "outputs": [
    {
     "data": {
      "text/plain": [
       "0.6432865731462926"
      ]
     },
     "execution_count": 25,
     "metadata": {},
     "output_type": "execute_result"
    }
   ],
   "source": [
    "test = load_data('ratings_test.txt')[1:]\n",
    "test_features = make_train_feats(test,all_words,use_morph=False)\n",
    "nltk.classify.accuracy(classifier,test_features)"
   ]
  },
  {
   "cell_type": "markdown",
   "id": "b414a460",
   "metadata": {},
   "source": [
    "##  use_morph = True (count == 500)"
   ]
  },
  {
   "cell_type": "code",
   "execution_count": 51,
   "id": "19f468f7",
   "metadata": {},
   "outputs": [
    {
     "data": {
      "text/plain": [
       "0.7097097097097097"
      ]
     },
     "execution_count": 51,
     "metadata": {},
     "output_type": "execute_result"
    }
   ],
   "source": [
    "test_feature = make_train_feats(test,all_words,use_morph=True)\n",
    "nltk.classify.accuracy(classifier,test_feature)"
   ]
  },
  {
   "cell_type": "markdown",
   "id": "659424a2",
   "metadata": {},
   "source": [
    "##  use_morph = False (count == 1000)"
   ]
  },
  {
   "cell_type": "code",
   "execution_count": 38,
   "id": "72e3602d",
   "metadata": {},
   "outputs": [
    {
     "data": {
      "text/plain": [
       "0.6656656656656657"
      ]
     },
     "execution_count": 38,
     "metadata": {},
     "output_type": "execute_result"
    }
   ],
   "source": [
    "test = load_data('ratings_test.txt')[1:]\n",
    "test_features = make_train_feats(test,all_words,use_morph=False)\n",
    "nltk.classify.accuracy(classifier,test_features)"
   ]
  },
  {
   "cell_type": "markdown",
   "id": "c42146c7",
   "metadata": {},
   "source": [
    "##  use_morph = True (count == 1000)"
   ]
  },
  {
   "cell_type": "code",
   "execution_count": 58,
   "id": "67e2caf6",
   "metadata": {},
   "outputs": [
    {
     "data": {
      "text/plain": [
       "0.7747747747747747"
      ]
     },
     "execution_count": 58,
     "metadata": {},
     "output_type": "execute_result"
    }
   ],
   "source": [
    "test_feature = make_train_feats(test,all_words,use_morph=True)\n",
    "nltk.classify.accuracy(classifier,test_feature)"
   ]
  },
  {
   "cell_type": "markdown",
   "id": "ae92378c",
   "metadata": {},
   "source": [
    "## 결과 비교\n",
    "\n",
    "- use_morph = True를 했을 때의 값이 False 했을 때의 값보다 더 크다\n",
    "- count 값을 올리면 결과도 그에 따라 증가되어 나타난다. 데이터 양이 많을 수록 더 정확하게 동작할 수 있다"
   ]
  },
  {
   "cell_type": "code",
   "execution_count": null,
   "id": "806b4b42",
   "metadata": {},
   "outputs": [],
   "source": []
  }
 ],
 "metadata": {
  "kernelspec": {
   "display_name": "Python 3 (ipykernel)",
   "language": "python",
   "name": "python3"
  },
  "language_info": {
   "codemirror_mode": {
    "name": "ipython",
    "version": 3
   },
   "file_extension": ".py",
   "mimetype": "text/x-python",
   "name": "python",
   "nbconvert_exporter": "python",
   "pygments_lexer": "ipython3",
   "version": "3.9.13"
  }
 },
 "nbformat": 4,
 "nbformat_minor": 5
}
