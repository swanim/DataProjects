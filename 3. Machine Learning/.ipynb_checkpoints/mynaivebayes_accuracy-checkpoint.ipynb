{
 "cells": [
  {
   "cell_type": "markdown",
   "id": "c84f929e",
   "metadata": {},
   "source": [
    "# 분류기 만들어보기"
   ]
  },
  {
   "cell_type": "code",
   "execution_count": 1,
   "id": "d2968585",
   "metadata": {},
   "outputs": [
    {
     "data": {
      "text/plain": [
       "('ratings_test.txt', <http.client.HTTPMessage at 0x26890978fd0>)"
      ]
     },
     "execution_count": 1,
     "metadata": {},
     "output_type": "execute_result"
    }
   ],
   "source": [
    "import urllib\n",
    "urllib.request.urlretrieve(\"https://raw.githubusercontent.com/e9t/nsmc/master/ratings_train.txt\", filename=\"ratings_train.txt\")\n",
    "urllib.request.urlretrieve(\"https://raw.githubusercontent.com/e9t/nsmc/master/ratings_test.txt\", filename=\"ratings_test.txt\")"
   ]
  },
  {
   "cell_type": "code",
   "execution_count": 2,
   "id": "efc76d5a",
   "metadata": {},
   "outputs": [],
   "source": [
    "from nltk.tokenize import word_tokenize\n",
    "import nltk\n",
    "\n",
    "from konlpy.tag import Okt\n",
    "okt = Okt()"
   ]
  },
  {
   "cell_type": "code",
   "execution_count": 3,
   "id": "56a087c3",
   "metadata": {},
   "outputs": [],
   "source": [
    "def load_data(filename):\n",
    "    train = []\n",
    "    with open(filename, 'r', encoding='utf-8') as f:\n",
    "        count = 0\n",
    "        for line in f.readlines():\n",
    "            if count == 1000: break\n",
    "            count += 1\n",
    "\n",
    "            line = line.strip()\n",
    "            id, document, label = line.split('\\t')\n",
    "            if label == '1': label = 'pos'\n",
    "            else: label = 'neg'    \n",
    "            train_tup = (document, label)\n",
    "            train.append(train_tup)\n",
    "    return train"
   ]
  },
  {
   "cell_type": "code",
   "execution_count": 4,
   "id": "9b9f49a9",
   "metadata": {},
   "outputs": [],
   "source": [
    "def pos_tokenize(raw_sent):\n",
    "    pos_sent = []\n",
    "    \n",
    "    sent = okt.pos(raw_sent, norm=True, stem=True)\n",
    "    for tup in sent:\n",
    "        word, tag = tup\n",
    "        word_tag = word + '/' + tag\n",
    "        pos_sent.append(word_tag)\n",
    "       \n",
    "    return ' '.join(pos_sent) "
   ]
  },
  {
   "cell_type": "code",
   "execution_count": 5,
   "id": "842fc681",
   "metadata": {},
   "outputs": [],
   "source": [
    "def make_word_dict(train, use_morph=False):\n",
    "    all_words = set()\n",
    "    for tup in train:\n",
    "        sent, label = tup\n",
    "        if use_morph: sent = pos_tokenize(sent)\n",
    "        word_list = word_tokenize(sent)\n",
    "        for word in word_list:\n",
    "            all_words.add(word)\n",
    "            \n",
    "    return all_words"
   ]
  },
  {
   "cell_type": "code",
   "execution_count": 6,
   "id": "7aa39f24",
   "metadata": {},
   "outputs": [],
   "source": [
    "def make_train_feats(train, all_words, use_morph=False):\n",
    "    train_features = []\n",
    "    for tup in train:\n",
    "        sent, label = tup # sent:'I like you' label: 'pos'\n",
    "        if use_morph: sent = pos_tokenize(sent)\n",
    "        word_list = word_tokenize(sent) # ['I', like, you]\n",
    "        tmp = {set_word: set_word in word_list for set_word in all_words}\n",
    "        train_feature = (tmp, label)\n",
    "        train_features.append(train_feature)\n",
    "        \n",
    "    return train_features"
   ]
  },
  {
   "cell_type": "markdown",
   "id": "8c073adc",
   "metadata": {},
   "source": [
    "# Training"
   ]
  },
  {
   "cell_type": "code",
   "execution_count": 7,
   "id": "b85a5d93",
   "metadata": {},
   "outputs": [],
   "source": [
    "use_morph = True"
   ]
  },
  {
   "cell_type": "code",
   "execution_count": 8,
   "id": "7514fc1b",
   "metadata": {},
   "outputs": [],
   "source": [
    "train = load_data('ratings_train.txt')[1:]"
   ]
  },
  {
   "cell_type": "code",
   "execution_count": 9,
   "id": "c6173859",
   "metadata": {},
   "outputs": [],
   "source": [
    "all_words = make_word_dict(train, use_morph)"
   ]
  },
  {
   "cell_type": "code",
   "execution_count": 10,
   "id": "01458277",
   "metadata": {},
   "outputs": [],
   "source": [
    "train_features = make_train_feats(train, all_words, use_morph)"
   ]
  },
  {
   "cell_type": "code",
   "execution_count": 11,
   "id": "8b72cb5c",
   "metadata": {},
   "outputs": [],
   "source": [
    "classifier = nltk.NaiveBayesClassifier.train(train_features)"
   ]
  },
  {
   "cell_type": "code",
   "execution_count": 12,
   "id": "33c7c3ba",
   "metadata": {},
   "outputs": [
    {
     "name": "stdout",
     "output_type": "stream",
     "text": [
      "Most Informative Features\n",
      "                쓰레기/Noun = True              neg : pos    =     11.9 : 1.0\n",
      "                 인생/Noun = True              pos : neg    =     10.0 : 1.0\n",
      "                 최고/Noun = True              pos : neg    =      9.5 : 1.0\n",
      "           괜찮다/Adjective = True              pos : neg    =      8.6 : 1.0\n",
      "                       ; = True              neg : pos    =      8.3 : 1.0\n",
      "          재미없다/Adjective = True              neg : pos    =      8.1 : 1.0\n",
      "       ㅡㅡ/KoreanParticle = True              neg : pos    =      8.1 : 1.0\n",
      "           아깝다/Adjective = True              neg : pos    =      7.6 : 1.0\n",
      "          지루하다/Adjective = True              neg : pos    =      7.5 : 1.0\n",
      "           재밌다/Adjective = True              pos : neg    =      7.5 : 1.0\n"
     ]
    }
   ],
   "source": [
    "classifier.show_most_informative_features(n=10)"
   ]
  },
  {
   "cell_type": "markdown",
   "id": "b50d5db7",
   "metadata": {},
   "source": [
    "# Test"
   ]
  },
  {
   "cell_type": "code",
   "execution_count": 13,
   "id": "6f39377a",
   "metadata": {},
   "outputs": [],
   "source": [
    "test = load_data('ratings_test.txt')[1:]"
   ]
  },
  {
   "cell_type": "code",
   "execution_count": 14,
   "id": "c6d4f631",
   "metadata": {},
   "outputs": [],
   "source": [
    "test_features = make_train_feats(test, all_words, use_morph)"
   ]
  },
  {
   "cell_type": "code",
   "execution_count": 15,
   "id": "5ffbe5ed",
   "metadata": {},
   "outputs": [
    {
     "data": {
      "text/plain": [
       "'pos'"
      ]
     },
     "execution_count": 15,
     "metadata": {},
     "output_type": "execute_result"
    }
   ],
   "source": [
    "classifier.classify(test_features[0][0])"
   ]
  },
  {
   "cell_type": "markdown",
   "id": "a86e7f22",
   "metadata": {},
   "source": [
    "# 정확도 계산하기"
   ]
  },
  {
   "cell_type": "markdown",
   "id": "2347a590",
   "metadata": {},
   "source": [
    "## use_morph = True (count = 500)"
   ]
  },
  {
   "cell_type": "code",
   "execution_count": 73,
   "id": "efc0358b",
   "metadata": {},
   "outputs": [
    {
     "data": {
      "text/plain": [
       "0.7154308617234469"
      ]
     },
     "execution_count": 73,
     "metadata": {},
     "output_type": "execute_result"
    }
   ],
   "source": [
    "nltk.classify.accuracy(classifier, test_features)"
   ]
  },
  {
   "cell_type": "markdown",
   "id": "a0c7f83c",
   "metadata": {},
   "source": [
    "## use_morph = True (count = 1000)"
   ]
  },
  {
   "cell_type": "code",
   "execution_count": 120,
   "id": "2c90240c",
   "metadata": {},
   "outputs": [
    {
     "data": {
      "text/plain": [
       "0.7747747747747747"
      ]
     },
     "execution_count": 120,
     "metadata": {},
     "output_type": "execute_result"
    }
   ],
   "source": [
    "nltk.classify.accuracy(classifier, test_features)"
   ]
  },
  {
   "cell_type": "markdown",
   "id": "ad7d35d5",
   "metadata": {},
   "source": [
    "## use_morph = False (count = 500)"
   ]
  },
  {
   "cell_type": "code",
   "execution_count": 102,
   "id": "3573c0fc",
   "metadata": {},
   "outputs": [
    {
     "data": {
      "text/plain": [
       "0.6432865731462926"
      ]
     },
     "execution_count": 102,
     "metadata": {},
     "output_type": "execute_result"
    }
   ],
   "source": [
    "nltk.classify.accuracy(classifier, test_features)"
   ]
  },
  {
   "cell_type": "markdown",
   "id": "a4dc988a",
   "metadata": {},
   "source": [
    "## use_morph = False (count = 1000)"
   ]
  },
  {
   "cell_type": "code",
   "execution_count": 112,
   "id": "7304e719",
   "metadata": {},
   "outputs": [
    {
     "data": {
      "text/plain": [
       "0.6656656656656657"
      ]
     },
     "execution_count": 112,
     "metadata": {},
     "output_type": "execute_result"
    }
   ],
   "source": [
    "nltk.classify.accuracy(classifier, test_features)"
   ]
  },
  {
   "cell_type": "markdown",
   "id": "c7af7c98",
   "metadata": {},
   "source": [
    "# MyNaiveBayesClassifier"
   ]
  },
  {
   "cell_type": "code",
   "execution_count": 16,
   "id": "b383c6bf",
   "metadata": {},
   "outputs": [],
   "source": [
    "class MyNaiveBayesClassifier:\n",
    "    def __init__(self, k=0.5):\n",
    "        self.k = k\n",
    "        self.word_probs = []"
   ]
  },
  {
   "cell_type": "code",
   "execution_count": 17,
   "id": "81dd3a95",
   "metadata": {},
   "outputs": [],
   "source": [
    "classifier = MyNaiveBayesClassifier()"
   ]
  },
  {
   "cell_type": "code",
   "execution_count": 18,
   "id": "de0cf7ac",
   "metadata": {},
   "outputs": [
    {
     "data": {
      "text/plain": [
       "0.5"
      ]
     },
     "execution_count": 18,
     "metadata": {},
     "output_type": "execute_result"
    }
   ],
   "source": [
    "classifier.k"
   ]
  },
  {
   "cell_type": "code",
   "execution_count": 19,
   "id": "060f61d2",
   "metadata": {},
   "outputs": [],
   "source": [
    "class MyNaiveBayesClassifier:\n",
    "    def __init__(self, k=0.5, use_morph=False):\n",
    "        self.k = k\n",
    "        self.word_probs = []\n",
    "        self.use_morph = use_morph\n",
    "        \n",
    "        if self.use_morph:\n",
    "            from konlpy.tag import Okt\n",
    "            okt = Okt()"
   ]
  },
  {
   "cell_type": "code",
   "execution_count": 20,
   "id": "bcbbdfb4",
   "metadata": {},
   "outputs": [],
   "source": [
    "classifier = MyNaiveBayesClassifier()"
   ]
  },
  {
   "cell_type": "code",
   "execution_count": 21,
   "id": "3f2212b1",
   "metadata": {},
   "outputs": [
    {
     "data": {
      "text/plain": [
       "0.5"
      ]
     },
     "execution_count": 21,
     "metadata": {},
     "output_type": "execute_result"
    }
   ],
   "source": [
    "classifier.k"
   ]
  },
  {
   "cell_type": "code",
   "execution_count": 117,
   "id": "49cb187c",
   "metadata": {},
   "outputs": [],
   "source": [
    "import math\n",
    "\n",
    "class MyNaiveBayesClassifier:\n",
    "    def __init__(self, k=0.5, use_morph=False):\n",
    "        self.k = k\n",
    "        self.word_probs = []\n",
    "        self.use_morph = use_morph\n",
    "        \n",
    "        if self.use_morph:\n",
    "            from konlpy.tag import Okt\n",
    "            okt = Okt()\n",
    "            \n",
    "    def load_data(self, file_path):\n",
    "        docs, labels = [], []\n",
    "        \n",
    "        count = 0\n",
    "        with open(file_path, 'r', encoding='utf-8') as f:\n",
    "            for line in f.readlines():\n",
    "                if count == 500: break\n",
    "                line = line.strip()\n",
    "                id, doc, label = line.split('\\t')\n",
    "                docs.append(doc)\n",
    "                if label == '1': label = 'pos'\n",
    "                else: label = 'neg'\n",
    "                labels.append(label)\n",
    "                count += 1\n",
    "        \n",
    "        return docs[1:], labels[1:]\n",
    "    \n",
    "    def tokenize(self, sentence):\n",
    "        if self.use_morph:\n",
    "            pos_sent = []\n",
    "\n",
    "            sent = okt.pos(sentence, norm=True, stem=True)\n",
    "            for tup in sent:\n",
    "                word, tag = tup\n",
    "                word_tag = word + '/' + tag\n",
    "                pos_sent.append(word_tag)\n",
    "\n",
    "            sentence = ' '.join(pos_sent) \n",
    "        \n",
    "        return sentence.split()\n",
    "    \n",
    "    def count_words(self, docs, labels):\n",
    "        count_dict = dict()\n",
    "        for doc, label in zip(docs, labels):\n",
    "            for word in self.tokenize(doc):\n",
    "                if word not in count_dict:\n",
    "                    count_dict[word] = {'pos':0, 'neg':0}\n",
    "                count_dict[word][label] += 1\n",
    "                \n",
    "        print('num of words...', len(count_dict))\n",
    "        \n",
    "        return count_dict\n",
    "    \n",
    "    def word_prob(self, count_dict, pos_class_num, neg_class_num, k):\n",
    "        word_prob_list = []\n",
    "        \n",
    "        for word in count_dict:\n",
    "            pos_word_num = count_dict[word]['pos']\n",
    "            neg_word_num = count_dict[word]['neg']\n",
    "            \n",
    "            pos_class_prob = (pos_word_num + k) / (pos_class_num + 2*k)\n",
    "            neg_class_prob = (neg_word_num + k) / (neg_class_num + 2*k)\n",
    "        \n",
    "            tup = (word, pos_class_prob, neg_class_prob)\n",
    "            word_prob_list.append(tup)\n",
    "            \n",
    "        return word_prob_list\n",
    "    \n",
    "    def class_prob(self, word_prob_list, test_sentence, use_unseen=False):\n",
    "        test_words = self.tokenize(test_sentence)\n",
    "        \n",
    "        sent_log_pos_class_prob, sent_log_neg_class_prob = 0, 0\n",
    "        \n",
    "        for word, word_pos_class_prob, word_neg_class_prob in word_prob_list:\n",
    "            if word in test_words:\n",
    "                sent_log_pos_class_prob += math.log(word_pos_class_prob)\n",
    "                sent_log_neg_class_prob += math.log(word_neg_class_prob)\n",
    "            else:\n",
    "                if use_unseen:\n",
    "                    sent_log_pos_class_prob += math.log(1-word_pos_class_prob)\n",
    "                    sent_log_neg_class_prob += math.log(1-word_neg_class_prob)\n",
    "        \n",
    "        sent_pos_class_prob = math.exp(sent_log_pos_class_prob)\n",
    "        sent_neg_class_prob = math.exp(sent_log_neg_class_prob)\n",
    "        \n",
    "        pos_class_prob = sent_pos_class_prob / (sent_pos_class_prob+sent_neg_class_prob)\n",
    "        neg_class_prob = sent_neg_class_prob / (sent_pos_class_prob+sent_neg_class_prob)\n",
    "        \n",
    "        return pos_class_prob, neg_class_prob \n",
    "    \n",
    "    def train(self, train_file_path):\n",
    "        train_docs, train_labels = self.load_data(train_file_path)\n",
    "        \n",
    "        word_count_dict = self.count_words(train_docs, train_labels)\n",
    "        \n",
    "        pos_class_num = 0\n",
    "        neg_class_num = 0\n",
    "        for label in train_labels:\n",
    "            if label == 'pos':\n",
    "                pos_class_num += 1\n",
    "            else: \n",
    "                neg_class_num += 1\n",
    "                \n",
    "        \n",
    "        self.word_probs = self.word_prob(word_count_dict, pos_class_num, neg_class_num, self.k)\n",
    "        \n",
    "    def classify(self, doc, use_unseen=False):\n",
    "        pos_class_prob, neg_class_prob = self.class_prob(self.word_probs, doc, use_unseen)\n",
    "        \n",
    "        if pos_class_prob > neg_class_prob:\n",
    "            print('pos', pos_class_prob)\n",
    "        else:\n",
    "            print('neg', neg_class_prob)\n",
    "            \n",
    "    def accuracy(self, test_file, use_unseen=False):\n",
    "        d,l = self.load_data(test_file)\n",
    "        count = 0\n",
    "        \n",
    "        #use_morph = True\n",
    "        for doc, label in zip(d, l):\n",
    "            pos_class_prob ,neg_class_prob = self.class_prob(self.word_probs, doc, use_unseen=False)\n",
    "            if pos_class_prob > neg_class_prob:\n",
    "                #count = pos_class_prob / (pos_class_prob + neg_class_prob)\n",
    "                if label == \"pos\":\n",
    "                    count += 1\n",
    "            else:\n",
    "                #count = neg_class_prob / (pos_class_prob + neg_class_prob)\n",
    "                if label == \"neg\":\n",
    "                    count += 1\n",
    "        return count / len(l)"
   ]
  },
  {
   "cell_type": "code",
   "execution_count": 118,
   "id": "df66231d",
   "metadata": {},
   "outputs": [],
   "source": [
    "classifier = MyNaiveBayesClassifier()"
   ]
  },
  {
   "cell_type": "code",
   "execution_count": 119,
   "id": "919bc730",
   "metadata": {},
   "outputs": [
    {
     "name": "stdout",
     "output_type": "stream",
     "text": [
      "num of words... 3055\n"
     ]
    }
   ],
   "source": [
    "classifier.train('ratings_train.txt')"
   ]
  },
  {
   "cell_type": "code",
   "execution_count": 120,
   "id": "d35cd331",
   "metadata": {},
   "outputs": [
    {
     "name": "stdout",
     "output_type": "stream",
     "text": [
      "pos 0.923935389133627\n"
     ]
    }
   ],
   "source": [
    "classifier.classify('최고의 영화예요!', use_unseen=False)"
   ]
  },
  {
   "cell_type": "code",
   "execution_count": 121,
   "id": "162854f8",
   "metadata": {},
   "outputs": [
    {
     "name": "stdout",
     "output_type": "stream",
     "text": [
      "pos 0.923935389133627\n"
     ]
    }
   ],
   "source": [
    "classifier.classify('최고의 영화예요!')"
   ]
  },
  {
   "cell_type": "code",
   "execution_count": 122,
   "id": "751dc7b0",
   "metadata": {},
   "outputs": [
    {
     "name": "stdout",
     "output_type": "stream",
     "text": [
      "pos 0.9617974172999348\n"
     ]
    }
   ],
   "source": [
    "classifier.classify('최고의 영화예요!', use_unseen=True)"
   ]
  },
  {
   "cell_type": "code",
   "execution_count": 123,
   "id": "3a55f971",
   "metadata": {},
   "outputs": [],
   "source": [
    "test_docs, test_labels = classifier.load_data('ratings_test.txt')"
   ]
  },
  {
   "cell_type": "code",
   "execution_count": 124,
   "id": "83499158",
   "metadata": {},
   "outputs": [
    {
     "data": {
      "text/plain": [
       "'굳 ㅋ'"
      ]
     },
     "execution_count": 124,
     "metadata": {},
     "output_type": "execute_result"
    }
   ],
   "source": [
    "test_docs[0]"
   ]
  },
  {
   "cell_type": "code",
   "execution_count": 125,
   "id": "5314ac33",
   "metadata": {},
   "outputs": [
    {
     "name": "stdout",
     "output_type": "stream",
     "text": [
      "pos 0.6541187739929468\n"
     ]
    }
   ],
   "source": [
    "classifier.classify(test_docs[0], use_unseen=True)"
   ]
  },
  {
   "cell_type": "code",
   "execution_count": 126,
   "id": "c5a298b6",
   "metadata": {},
   "outputs": [
    {
     "data": {
      "text/plain": [
       "0.625250501002004"
      ]
     },
     "execution_count": 126,
     "metadata": {},
     "output_type": "execute_result"
    }
   ],
   "source": [
    "classifier.accuracy('ratings_test.txt', use_unseen=False) "
   ]
  },
  {
   "cell_type": "code",
   "execution_count": null,
   "id": "17fe9023",
   "metadata": {},
   "outputs": [],
   "source": []
  }
 ],
 "metadata": {
  "kernelspec": {
   "display_name": "Python 3 (ipykernel)",
   "language": "python",
   "name": "python3"
  },
  "language_info": {
   "codemirror_mode": {
    "name": "ipython",
    "version": 3
   },
   "file_extension": ".py",
   "mimetype": "text/x-python",
   "name": "python",
   "nbconvert_exporter": "python",
   "pygments_lexer": "ipython3",
   "version": "3.9.13"
  }
 },
 "nbformat": 4,
 "nbformat_minor": 5
}
